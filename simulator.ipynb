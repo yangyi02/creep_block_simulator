{
 "cells": [
  {
   "cell_type": "code",
   "execution_count": 222,
   "metadata": {
    "collapsed": false
   },
   "outputs": [],
   "source": [
    "% matplotlib inline\n",
    "\n",
    "import os\n",
    "import sys\n",
    "import matplotlib\n",
    "import matplotlib.pyplot as plt\n",
    "import numpy as np\n",
    "import copy"
   ]
  },
  {
   "cell_type": "code",
   "execution_count": 231,
   "metadata": {
    "collapsed": true
   },
   "outputs": [],
   "source": [
    "class CreepBlockState(object):\n",
    "    def __init__(self, num_creep, creep_size, creep_speed, init_creep_location, block_time, hero_size, hero_speed, \n",
    "                 hero_turn_speed, init_hero_location):\n",
    "        self.hero = Hero(hero_size, hero_speed, hero_turn_speed, init_hero_location)\n",
    "        init_creep_locations = []\n",
    "        for i in range(num_creep):\n",
    "            x = 0 - (num_creep - 1) / 2.0 * creep_size + i * creep_size\n",
    "            init_creep_location = np.array([x, 0])\n",
    "            init_creep_locations.append(init_creep_location)\n",
    "        self.creeps = []\n",
    "        for i in range(num_creep):\n",
    "            creep = Creep(creep_size, creep_speed, init_creep_locations[i], block_time)\n",
    "            self.creeps.append(creep)\n",
    "        self.reset()\n",
    "        \n",
    "    def reset(self):\n",
    "        self.num_steps = 0\n",
    "        self.hero.reset()\n",
    "        for i in range(len(self.creeps)):\n",
    "            self.creeps[i].reset()\n",
    "\n",
    "    def step(self, hero_action):\n",
    "        self.num_steps = self.num_steps + 1\n",
    "        self.hero.update_hero_status(hero_action)\n",
    "        for i in range(len(self.creeps)):\n",
    "            self.creeps[i].update_creep_status(self.hero)\n",
    "    \n",
    "class Hero(object):\n",
    "    def __init__(self, hero_size, hero_speed, hero_turn_speed, init_hero_location):\n",
    "        self.size = hero_size\n",
    "        self.speed = hero_speed\n",
    "        self.turn_speed = hero_turn_speed\n",
    "        self.init_hero_location = init_hero_location\n",
    "        self.init_hero_angle = 90\n",
    "        self.reset()\n",
    "    \n",
    "    def reset(self):\n",
    "        self.location = np.array([0, self.init_hero_location])\n",
    "        self.angle = self.init_hero_angle\n",
    "    \n",
    "    def parse_hero_action(self, hero_action):\n",
    "        assert np.count_nonzero(hero_action) == 1, \\\n",
    "            'The hero contain 4 actions [move, turn right, turn left, stay]. One of them must be 1, others must be 0.'\n",
    "        velocity = hero_action[0] * self.speed\n",
    "        angle_velocity = hero_action[1] * self.turn_speed - hero_action[2] * self.turn_speed\n",
    "        return velocity, angle_velocity\n",
    "\n",
    "    def update_hero_status(self, hero_action):\n",
    "        velocity, angle_velocity = self.parse_hero_action(hero_action)\n",
    "        self.angle = self.angle + angle_velocity\n",
    "        velocity_2d = np.array([velocity * np.cos(self.angle * np.pi / 180), velocity * np.sin(self.angle * np.pi / 180)])\n",
    "        self.location = self.location + velocity_2d\n",
    "    \n",
    "class Creep(object):\n",
    "    def __init__(self, creep_size, creep_speed, init_creep_location, block_time):     \n",
    "        self.size = creep_size\n",
    "        self.speed = creep_speed\n",
    "        self.init_creep_location = init_creep_location\n",
    "        self.init_creep_angle = 90\n",
    "        self.block_time = 2\n",
    "        self.reset()\n",
    "        \n",
    "    def reset(self):\n",
    "        self.location = np.array([self.init_creep_location[0], self.init_creep_location[1]])\n",
    "        self.angle = self.init_creep_angle\n",
    "        self.blocked = False\n",
    "        self.blocked_count = 0\n",
    "\n",
    "    @staticmethod\n",
    "    def dist(x,y):   \n",
    "        return np.sqrt(np.sum((x-y)**2))\n",
    "\n",
    "    def update_creep_status(self, hero):\n",
    "        # First if the creep is already blocked, then it will stuck a little bit\n",
    "        if self.blocked:\n",
    "            self.blocked_count = self.blocked_count - 1\n",
    "            if self.blocked_count == 0:\n",
    "                self.blocked = False\n",
    "            return\n",
    "        # If the creep is not blocked, then check if it will be blocked in the new location\n",
    "        new_location = self.location[1] + self.speed\n",
    "        if self.dist(new_location, hero.location) < self.size + hero.size:\n",
    "            self.blocked = True\n",
    "            self.blocked_count = self.block_time\n",
    "        else:\n",
    "            self.location[1] = new_location"
   ]
  },
  {
   "cell_type": "code",
   "execution_count": 262,
   "metadata": {
    "collapsed": false
   },
   "outputs": [],
   "source": [
    "class CreepBlockSimulator(object):\n",
    "    def __init__(self, num_creep=4, creep_size=1, creep_speed=1, init_creep_location=0, block_time=2,\n",
    "                 hero_size=1.5, hero_speed=1.5, hero_turn_speed=30, init_hero_location=3, \n",
    "                 display=True, display_speed=1):\n",
    "        self.state = CreepBlockState(num_creep, creep_size, creep_speed, init_creep_location, block_time,\n",
    "                                    hero_size, hero_speed, hero_turn_speed, init_hero_location)\n",
    "        self.display = display\n",
    "        self.display_speed = display_speed\n",
    "        self.reset()\n",
    "\n",
    "    def reset(self):\n",
    "        self.state.reset()\n",
    "        \n",
    "    def step(self, hero_action):\n",
    "        old_state = copy.deepcopy(self.state)\n",
    "        self.state.step(hero_action)\n",
    "        reward = self.get_reward(old_state)\n",
    "        game_over = self.is_game_over()\n",
    "        if self.display:\n",
    "            self.visualize()\n",
    "        return self.state, reward, game_over\n",
    "        \n",
    "    @staticmethod\n",
    "    def dist(x,y):   \n",
    "        return np.sqrt(np.sum((x-y)**2))\n",
    "    \n",
    "    def get_reward(self, old_state):\n",
    "        reward = 0\n",
    "        for i in range(len(self.state.creeps)):\n",
    "            old_location = old_state.creeps[i].location\n",
    "            location = self.state.creeps[i].location\n",
    "            move_dist = self.dist(old_location, location)\n",
    "            reward = reward - move_dist / self.state.creeps[i].speed\n",
    "        return reward\n",
    "    \n",
    "    def is_game_over(self):\n",
    "        game_over = False\n",
    "        if self.state.num_steps >= 1000:\n",
    "            game_over = True\n",
    "        total_dist = 0\n",
    "        hero_location = self.state.hero.location\n",
    "        for i in range(len(self.state.creeps)):\n",
    "            creep_location = self.state.creeps[i].location\n",
    "            creep_hero_dist = self.dist(creep_location, hero_location)\n",
    "            total_dist = total_dist + creep_hero_dist\n",
    "        if total_dist > 10 * len(self.state.creeps):\n",
    "            game_over = True\n",
    "        return game_over\n",
    "    \n",
    "    def visualize(self):\n",
    "        fig, ax = plt.subplots()\n",
    "        ax.axis('scaled')\n",
    "        hero = self.state.hero\n",
    "        circ = plt.Circle([hero.location[0], hero.location[1]], hero.size / 2.0, color='r')\n",
    "        ax.add_artist(circ)\n",
    "        dx = hero.size / 2.0 * np.cos(hero.angle * np.pi / 180)\n",
    "        dy = hero.size / 2.0 * np.sin(hero.angle * np.pi / 180)\n",
    "        hw = hero.size / 2.0\n",
    "        hl = hero.size / 2.0 / 2.0\n",
    "        arr = plt.arrow(hero.location[0], hero.location[1], dx, dy, head_width=hw, head_length=hl, fc='r', ec='k')\n",
    "        ax.add_artist(arr)\n",
    "        for creep in self.state.creeps:\n",
    "            circ = plt.Circle((creep.location[0], creep.location[1]), creep.size / 2.0, color='g')\n",
    "            ax.add_artist(circ)\n",
    "            dx = creep.size / 2.0 * np.cos(creep.angle * np.pi / 180)\n",
    "            dy = creep.size / 2.0 * np.sin(creep.angle * np.pi / 180)\n",
    "            hw = creep.size / 2.0\n",
    "            hl = creep.size / 2.0 / 2.0\n",
    "            arr = plt.arrow(creep.location[0], creep.location[1], dx, dy, head_width=hw, head_length=hl, fc='g', ec='k')\n",
    "            ax.add_artist(arr)\n",
    "        ax.axis((-3, 3, -1, 10))\n",
    "        ax.grid()\n",
    "        plt.show()"
   ]
  },
  {
   "cell_type": "code",
   "execution_count": 263,
   "metadata": {
    "collapsed": false
   },
   "outputs": [
    {
     "data": {
      "image/png": "[encoded data removed]",
      "text/plain": [
       "<matplotlib.figure.Figure at 0x7f26f70e8250>"
      ]
     },
     "metadata": {},
     "output_type": "display_data"
    }
   ],
   "source": [
    "env = CreepBlockSimulator()\n",
    "env.reset()\n",
    "env.visualize()"
   ]
  },
  {
   "cell_type": "code",
   "execution_count": 264,
   "metadata": {
    "collapsed": false
   },
   "outputs": [
    {
     "data": {
      "image/png": "[encoded data removed]",
      "text/plain": [
       "<matplotlib.figure.Figure at 0x7f26f6c44e50>"
      ]
     },
     "metadata": {},
     "output_type": "display_data"
    },
    {
     "data": {
      "image/png": "[encoded data removed]",
      "text/plain": [
       "<matplotlib.figure.Figure at 0x7f26f6b22790>"
      ]
     },
     "metadata": {},
     "output_type": "display_data"
    }
   ],
   "source": [
    "hero_action = np.zeros(4,)\n",
    "hero_action[0] = 1\n",
    "state, reward, game_over = env.step(hero_action)\n",
    "env.visualize()"
   ]
  },
  {
   "cell_type": "code",
   "execution_count": null,
   "metadata": {
    "collapsed": true
   },
   "outputs": [],
   "source": []
  }
 ],
 "metadata": {
  "kernelspec": {
   "display_name": "Python 2",
   "language": "python",
   "name": "python2"
  },
  "language_info": {
   "codemirror_mode": {
    "name": "ipython",
    "version": 2
   },
   "file_extension": ".py",
   "mimetype": "text/x-python",
   "name": "python",
   "nbconvert_exporter": "python",
   "pygments_lexer": "ipython2",
   "version": "2.7.12"
  }
 },
 "nbformat": 4,
 "nbformat_minor": 0
}
